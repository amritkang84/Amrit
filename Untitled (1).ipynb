{
  "metadata": {
    "language_info": {
      "codemirror_mode": {
        "name": "python",
        "version": 3
      },
      "file_extension": ".py",
      "mimetype": "text/x-python",
      "name": "python",
      "nbconvert_exporter": "python",
      "pygments_lexer": "ipython3",
      "version": "3.8"
    },
    "kernelspec": {
      "name": "python",
      "display_name": "Pyolite",
      "language": "python"
    }
  },
  "nbformat_minor": 4,
  "nbformat": 4,
  "cells": [
    {
      "cell_type": "markdown",
      "source": "My Jupyter Notebook on IBM Watson Studio",
      "metadata": {}
    },
    {
      "cell_type": "markdown",
      "source": "NAME AMRITPAL SINGH\nI am currently studying in graduation.",
      "metadata": {}
    },
    {
      "cell_type": "markdown",
      "source": "I am intersted in data science becausei think future is very bright in this fieled.There are lot of opportunities available having an experiance in data science.",
      "metadata": {}
    },
    {
      "cell_type": "markdown",
      "source": "addition code.",
      "metadata": {}
    },
    {
      "cell_type": "code",
      "source": "1+1=<>",
      "metadata": {
        "trusted": true
      },
      "execution_count": null,
      "outputs": []
    },
    {
      "cell_type": "markdown",
      "source": "",
      "metadata": {}
    }
  ]
}